{
  "nbformat": 4,
  "nbformat_minor": 0,
  "metadata": {
    "colab": {
      "provenance": [],
      "authorship_tag": "ABX9TyOCbY51eExLe/DDBuMuk2k/",
      "include_colab_link": true
    },
    "kernelspec": {
      "name": "python3",
      "display_name": "Python 3"
    },
    "language_info": {
      "name": "python"
    }
  },
  "cells": [
    {
      "cell_type": "markdown",
      "metadata": {
        "id": "view-in-github",
        "colab_type": "text"
      },
      "source": [
        "<a href=\"https://colab.research.google.com/github/IsaqueCR4/Isaque-Costa-Rodrigues/blob/main/Lista1.ipynb\" target=\"_parent\"><img src=\"https://colab.research.google.com/assets/colab-badge.svg\" alt=\"Open In Colab\"/></a>"
      ]
    },
    {
      "cell_type": "code",
      "execution_count": null,
      "metadata": {
        "id": "aVG9xtrqygvu"
      },
      "outputs": [],
      "source": [
        "num = int(input(\"Digite um número inteiro: \"))\n",
        "print(\"Você digitou o número:\", num)"
      ]
    },
    {
      "cell_type": "code",
      "source": [
        "x = int(input(\"Digite o primeiro número inteiro: \"))\n",
        "y = int(input(\"Digite o segundo número inteiro: \"))\n",
        "print(f\"Você informou os números {x} e {y}\")"
      ],
      "metadata": {
        "id": "z1M9LD3kytqK"
      },
      "execution_count": null,
      "outputs": []
    },
    {
      "cell_type": "code",
      "source": [
        "num = float(input(\"Digite um número real: \"))\n",
        "print(f\"Você informou o número {num:.2f}\")"
      ],
      "metadata": {
        "id": "0xsvf7TGyt_a"
      },
      "execution_count": null,
      "outputs": []
    },
    {
      "cell_type": "code",
      "source": [
        "celsius = float(input(\"Digite a temperatura em Celsius: \"))\n",
        "f = celsius * 1.8 + 32\n",
        "print(f\"{celsius:.2f}°C correspondem a {f:.2f}°F\")"
      ],
      "metadata": {
        "id": "cKMVK8DlyuPf"
      },
      "execution_count": null,
      "outputs": []
    },
    {
      "cell_type": "code",
      "source": [
        "n = int(input(\"Digite um número inteiro: \"))\n",
        "x = float(input(\"Digite um número real: \"))\n",
        "print(f\"Você informou os números {n} e {x:.2f}\")"
      ],
      "metadata": {
        "id": "v5z11nplyuev"
      },
      "execution_count": null,
      "outputs": []
    },
    {
      "cell_type": "code",
      "source": [
        "letra = input(\"Digite a primeira letra do seu nome: \")\n",
        "print(f\"Você digitou {letra}\")"
      ],
      "metadata": {
        "id": "-a8dvjA3yutT"
      },
      "execution_count": null,
      "outputs": []
    },
    {
      "cell_type": "code",
      "source": [
        "cor = input(\"Digite o nome da sua cor preferida: \")\n",
        "print(f\"Você gosta da cor {cor}\")"
      ],
      "metadata": {
        "id": "6MzJ4Fd_yvBm"
      },
      "execution_count": null,
      "outputs": []
    },
    {
      "cell_type": "code",
      "source": [
        "verdura = input(\"Digite o nome da sua verdura preferida: \")\n",
        "fruta = input(\"Digite o nome da sua fruta preferida: \")\n",
        "print(f\"Você gosta de {verdura} e {fruta}\")"
      ],
      "metadata": {
        "id": "hvQU6OBjyvRO"
      },
      "execution_count": null,
      "outputs": []
    },
    {
      "cell_type": "code",
      "source": [
        "num = float(input(\"Digite um número real: \"))\n",
        "print(f\"Número -> {num}\")\n",
        "print(f\"Dobro deste número -> {num * 2}\")"
      ],
      "metadata": {
        "id": "_lsUcu1uyvh1"
      },
      "execution_count": null,
      "outputs": []
    },
    {
      "cell_type": "code",
      "source": [
        "num = float(input(\"Digite um número real: \"))\n",
        "print(f\"Número -> {num}\")\n",
        "print(f\"Quadrado -> {num ** 2}\")\n",
        "print(f\"Cubo -> {num ** 3}\")"
      ],
      "metadata": {
        "id": "YEkST7i_yv7r"
      },
      "execution_count": null,
      "outputs": []
    },
    {
      "cell_type": "code",
      "source": [
        "a = int(input(\"Digite o primeiro número inteiro: \"))\n",
        "b = int(input(\"Digite o segundo número inteiro: \"))\n",
        "soma = a + b\n",
        "print(f\"A soma dos números {a} e {b} corresponde a {soma}\")"
      ],
      "metadata": {
        "id": "-iaoKqkUywZG"
      },
      "execution_count": null,
      "outputs": []
    },
    {
      "cell_type": "code",
      "source": [
        "a = int(input(\"Digite o primeiro número: \"))\n",
        "b = int(input(\"Digite o segundo número: \"))\n",
        "\n",
        "if a == b:\n",
        "    print(f\"O número {a} corresponde a {b}\")\n",
        "else:\n",
        "    print(f\"O número {a} não corresponde a {b}\")"
      ],
      "metadata": {
        "id": "-tcl0Aomywn9"
      },
      "execution_count": null,
      "outputs": []
    },
    {
      "cell_type": "code",
      "source": [
        "a = float(input(\"Digite o primeiro número: \"))\n",
        "b = float(input(\"Digite o segundo número: \"))\n",
        "\n",
        "print(f\"Soma: {a + b}\")\n",
        "print(f\"Subtração: {a - b}\")\n",
        "print(f\"Multiplicação: {a * b}\")\n",
        "print(f\"Divisão: {a / b:.2f}\")"
      ],
      "metadata": {
        "id": "Lo08pSsAzbeN"
      },
      "execution_count": null,
      "outputs": []
    },
    {
      "cell_type": "code",
      "source": [
        "quantidade = int(input(\"Digite a quantidade de produtos vendidos: \"))\n",
        "caloria_unitaria = float(input(\"Digite as calorias por unidade: \"))\n",
        "total_calorias = quantidade * caloria_unitaria\n",
        "print(f\"Total de calorias vendidas: {total_calorias}\")"
      ],
      "metadata": {
        "id": "cQ2-P8fNzb4I"
      },
      "execution_count": null,
      "outputs": []
    }
  ]
}