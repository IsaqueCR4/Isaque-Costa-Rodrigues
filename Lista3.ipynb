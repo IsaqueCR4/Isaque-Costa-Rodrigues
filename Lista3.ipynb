{
  "nbformat": 4,
  "nbformat_minor": 0,
  "metadata": {
    "colab": {
      "provenance": [],
      "authorship_tag": "ABX9TyO427kGncUWsUHKKEWpVnxD",
      "include_colab_link": true
    },
    "kernelspec": {
      "name": "python3",
      "display_name": "Python 3"
    },
    "language_info": {
      "name": "python"
    }
  },
  "cells": [
    {
      "cell_type": "markdown",
      "metadata": {
        "id": "view-in-github",
        "colab_type": "text"
      },
      "source": [
        "<a href=\"https://colab.research.google.com/github/IsaqueCR4/Isaque-Costa-Rodrigues/blob/main/Lista3.ipynb\" target=\"_parent\"><img src=\"https://colab.research.google.com/assets/colab-badge.svg\" alt=\"Open In Colab\"/></a>"
      ]
    },
    {
      "cell_type": "code",
      "execution_count": null,
      "metadata": {
        "id": "tTPlMmYM9Zza"
      },
      "outputs": [],
      "source": [
        "for i in range(10):\n",
        "    print(\"Hello World!\", end=\" \")"
      ]
    },
    {
      "cell_type": "code",
      "source": [
        "for i in range(10):\n",
        "    print(\"Hello World!\")"
      ],
      "metadata": {
        "id": "AnktM76S996-"
      },
      "execution_count": null,
      "outputs": []
    },
    {
      "cell_type": "code",
      "source": [
        "for i in range(1, 101):\n",
        "    print(i)"
      ],
      "metadata": {
        "id": "M_soCS0b9990"
      },
      "execution_count": null,
      "outputs": []
    },
    {
      "cell_type": "code",
      "source": [
        "for i in range(1, 101):\n",
        "    print(f\"{i}- Hello World!\")"
      ],
      "metadata": {
        "id": "IUd-N-0l9-Ak"
      },
      "execution_count": null,
      "outputs": []
    },
    {
      "cell_type": "code",
      "source": [
        "for i in range(100, -1, -1):\n",
        "    print(i)"
      ],
      "metadata": {
        "id": "12u0Tcgx9-De"
      },
      "execution_count": null,
      "outputs": []
    },
    {
      "cell_type": "code",
      "source": [
        "for i in range(2, 1001, 2):\n",
        "    print(i)"
      ],
      "metadata": {
        "id": "k8bxu_6m9-Fz"
      },
      "execution_count": null,
      "outputs": []
    },
    {
      "cell_type": "code",
      "source": [
        "for i in range(999, -1, -2):\n",
        "    print(i)"
      ],
      "metadata": {
        "id": "TIVqE5al9-IO"
      },
      "execution_count": null,
      "outputs": []
    },
    {
      "cell_type": "code",
      "source": [
        "soma = sum(range(1, 101))\n",
        "print(soma)"
      ],
      "metadata": {
        "id": "QbZMr2CD9-LK"
      },
      "execution_count": null,
      "outputs": []
    },
    {
      "cell_type": "code",
      "source": [
        "n = int(input(\"Digite o número de vezes: \"))\n",
        "for i in range(n):\n",
        "    print(\"Hello World!\")"
      ],
      "metadata": {
        "id": "1KCnWgD39-Nq"
      },
      "execution_count": null,
      "outputs": []
    },
    {
      "cell_type": "code",
      "source": [
        "palavra = input(\"Digite uma palavra: \")\n",
        "n = int(input(\"Digite o número de vezes: \"))\n",
        "for i in range(n):\n",
        "    print(palavra)"
      ],
      "metadata": {
        "id": "Pa1wx2bM9-Qp"
      },
      "execution_count": null,
      "outputs": []
    },
    {
      "cell_type": "code",
      "source": [
        "n = int(input(\"Digite o número de valores: \"))\n",
        "soma = 0\n",
        "for i in range(n):\n",
        "    num = float(input(\"Digite um número: \"))\n",
        "    soma += num\n",
        "media = soma / n\n",
        "print(f\"Soma: {soma}, Média: {media}\")"
      ],
      "metadata": {
        "id": "gVfak5Zn9-TT"
      },
      "execution_count": null,
      "outputs": []
    },
    {
      "cell_type": "code",
      "source": [
        "n = int(input(\"Digite o número de pessoas: \"))\n",
        "mais_velha = \"\"\n",
        "idade_mais_velha = 0\n",
        "for i in range(n):\n",
        "    nome = input(\"Digite o nome: \")\n",
        "    idade = int(input(\"Digite a idade: \"))\n",
        "    if idade > idade_mais_velha:\n",
        "        idade_mais_velha = idade\n",
        "        mais_velha = nome\n",
        "print(f\"A pessoa mais velha é {mais_velha}\")"
      ],
      "metadata": {
        "id": "p-sMZhcu9-V3"
      },
      "execution_count": null,
      "outputs": []
    },
    {
      "cell_type": "code",
      "source": [
        "n = int(input(\"Digite o número de pessoas: \"))\n",
        "soma_idade_m = 0\n",
        "soma_idade_f = 0\n",
        "count_m = 0\n",
        "count_f = 0\n",
        "for i in range(n):\n",
        "    sexo = input(\"Digite o sexo (M/F): \")\n",
        "    idade = int(input(\"Digite a idade: \"))\n",
        "    if sexo.upper() == \"M\":\n",
        "        soma_idade_m += idade\n",
        "        count_m += 1\n",
        "    elif sexo.upper() == \"F\":\n",
        "        soma_idade_f += idade\n",
        "        count_f += 1\n",
        "media_m = soma_idade_m / count_m if count_m > 0 else 0\n",
        "media_f = soma_idade_f / count_f if count_f > 0 else 0\n",
        "print(f\"Média de idade masculina: {media_m}, Média de idade feminina: {media_f}\")"
      ],
      "metadata": {
        "id": "m-a1mY3l9-Yl"
      },
      "execution_count": null,
      "outputs": []
    },
    {
      "cell_type": "code",
      "source": [
        "maior = float(\"-inf\")\n",
        "menor = float(\"inf\")\n",
        "for i in range(10):\n",
        "    num = float(input(\"Digite um número: \"))\n",
        "    if num > maior:\n",
        "        maior = num\n",
        "    if num < menor:\n",
        "        menor = num\n",
        "print(f\"Maior: {maior}, Menor: {menor}\")"
      ],
      "metadata": {
        "id": "-KEj6FtF9-bB"
      },
      "execution_count": null,
      "outputs": []
    },
    {
      "cell_type": "code",
      "source": [
        "numeros = []\n",
        "while True:\n",
        "    num = float(input(\"Digite um número (0 para parar): \"))\n",
        "    if num == 0:\n",
        "        break\n",
        "    numeros.append(num)\n",
        "numeros.sort()\n",
        "print(numeros)"
      ],
      "metadata": {
        "id": "0OEWCwUp9-dm"
      },
      "execution_count": null,
      "outputs": []
    }
  ]
}